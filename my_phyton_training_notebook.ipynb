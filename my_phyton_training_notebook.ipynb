{
  "nbformat": 4,
  "nbformat_minor": 0,
  "metadata": {
    "colab": {
      "provenance": [],
      "authorship_tag": "ABX9TyNV0WP8FM8BBjWCW2QPhtoj",
      "include_colab_link": true
    },
    "kernelspec": {
      "name": "python3",
      "display_name": "Python 3"
    },
    "language_info": {
      "name": "python"
    }
  },
  "cells": [
    {
      "cell_type": "markdown",
      "metadata": {
        "id": "view-in-github",
        "colab_type": "text"
      },
      "source": [
        "<a href=\"https://colab.research.google.com/github/aryansonu2003/Phyton-Training/blob/main/my_phyton_training_notebook.ipynb\" target=\"_parent\"><img src=\"https://colab.research.google.com/assets/colab-badge.svg\" alt=\"Open In Colab\"/></a>"
      ]
    },
    {
      "cell_type": "markdown",
      "source": [
        "LIST from left ro right"
      ],
      "metadata": {
        "id": "kLP2AKuJnYCx"
      }
    },
    {
      "cell_type": "code",
      "execution_count": null,
      "metadata": {
        "id": "Mk62x0B8mVla"
      },
      "outputs": [],
      "source": [
        "L= [10,20,30,40,50,60,70,80,90]\n",
        "count=0\n",
        "for i in range(len(L)-1,-1,-1):\n",
        "\n",
        "    L[i]=L[i]+100\n",
        "\n",
        "    count=count+1\n",
        "\n",
        "    if count==5:\n",
        "        break\n",
        "print(*L)"
      ]
    },
    {
      "cell_type": "markdown",
      "source": [
        "Sum of all even integer"
      ],
      "metadata": {
        "id": "FCmbDfennlmQ"
      }
    },
    {
      "cell_type": "code",
      "source": [
        "str1=input()\n",
        "esum = 0\n",
        "for i in range(len(str1)):\n",
        "    if str1[i].isdigit():\n",
        "        if int(str1[i])%2==0:\n",
        "            esum=esum+int(str1[i])\n",
        "print(esum)"
      ],
      "metadata": {
        "colab": {
          "base_uri": "https://localhost:8080/",
          "height": 365
        },
        "id": "dmVFxv5ink9P",
        "outputId": "f57c8964-73d0-412e-82b3-5355bea4427c"
      },
      "execution_count": null,
      "outputs": [
        {
          "output_type": "error",
          "ename": "KeyboardInterrupt",
          "evalue": "Interrupted by user",
          "traceback": [
            "\u001b[0;31m---------------------------------------------------------------------------\u001b[0m",
            "\u001b[0;31mKeyboardInterrupt\u001b[0m                         Traceback (most recent call last)",
            "\u001b[0;32m/tmp/ipython-input-15-2237310423.py\u001b[0m in \u001b[0;36m<cell line: 0>\u001b[0;34m()\u001b[0m\n\u001b[0;32m----> 1\u001b[0;31m \u001b[0mstr1\u001b[0m\u001b[0;34m=\u001b[0m\u001b[0minput\u001b[0m\u001b[0;34m(\u001b[0m\u001b[0;34m)\u001b[0m\u001b[0;34m\u001b[0m\u001b[0;34m\u001b[0m\u001b[0m\n\u001b[0m\u001b[1;32m      2\u001b[0m \u001b[0mesum\u001b[0m \u001b[0;34m=\u001b[0m \u001b[0;36m0\u001b[0m\u001b[0;34m\u001b[0m\u001b[0;34m\u001b[0m\u001b[0m\n\u001b[1;32m      3\u001b[0m \u001b[0;32mfor\u001b[0m \u001b[0mi\u001b[0m \u001b[0;32min\u001b[0m \u001b[0mrange\u001b[0m\u001b[0;34m(\u001b[0m\u001b[0mlen\u001b[0m\u001b[0;34m(\u001b[0m\u001b[0mstr1\u001b[0m\u001b[0;34m)\u001b[0m\u001b[0;34m)\u001b[0m\u001b[0;34m:\u001b[0m\u001b[0;34m\u001b[0m\u001b[0;34m\u001b[0m\u001b[0m\n\u001b[1;32m      4\u001b[0m     \u001b[0;32mif\u001b[0m \u001b[0mstr1\u001b[0m\u001b[0;34m[\u001b[0m\u001b[0mi\u001b[0m\u001b[0;34m]\u001b[0m\u001b[0;34m.\u001b[0m\u001b[0misdigit\u001b[0m\u001b[0;34m(\u001b[0m\u001b[0;34m)\u001b[0m\u001b[0;34m:\u001b[0m\u001b[0;34m\u001b[0m\u001b[0;34m\u001b[0m\u001b[0m\n\u001b[1;32m      5\u001b[0m         \u001b[0;32mif\u001b[0m \u001b[0mint\u001b[0m\u001b[0;34m(\u001b[0m\u001b[0mstr1\u001b[0m\u001b[0;34m[\u001b[0m\u001b[0mi\u001b[0m\u001b[0;34m]\u001b[0m\u001b[0;34m)\u001b[0m\u001b[0;34m%\u001b[0m\u001b[0;36m2\u001b[0m\u001b[0;34m==\u001b[0m\u001b[0;36m0\u001b[0m\u001b[0;34m:\u001b[0m\u001b[0;34m\u001b[0m\u001b[0;34m\u001b[0m\u001b[0m\n",
            "\u001b[0;32m/usr/local/lib/python3.11/dist-packages/ipykernel/kernelbase.py\u001b[0m in \u001b[0;36mraw_input\u001b[0;34m(self, prompt)\u001b[0m\n\u001b[1;32m   1175\u001b[0m                 \u001b[0;34m\"raw_input was called, but this frontend does not support input requests.\"\u001b[0m\u001b[0;34m\u001b[0m\u001b[0;34m\u001b[0m\u001b[0m\n\u001b[1;32m   1176\u001b[0m             )\n\u001b[0;32m-> 1177\u001b[0;31m         return self._input_request(\n\u001b[0m\u001b[1;32m   1178\u001b[0m             \u001b[0mstr\u001b[0m\u001b[0;34m(\u001b[0m\u001b[0mprompt\u001b[0m\u001b[0;34m)\u001b[0m\u001b[0;34m,\u001b[0m\u001b[0;34m\u001b[0m\u001b[0;34m\u001b[0m\u001b[0m\n\u001b[1;32m   1179\u001b[0m             \u001b[0mself\u001b[0m\u001b[0;34m.\u001b[0m\u001b[0m_parent_ident\u001b[0m\u001b[0;34m[\u001b[0m\u001b[0;34m\"shell\"\u001b[0m\u001b[0;34m]\u001b[0m\u001b[0;34m,\u001b[0m\u001b[0;34m\u001b[0m\u001b[0;34m\u001b[0m\u001b[0m\n",
            "\u001b[0;32m/usr/local/lib/python3.11/dist-packages/ipykernel/kernelbase.py\u001b[0m in \u001b[0;36m_input_request\u001b[0;34m(self, prompt, ident, parent, password)\u001b[0m\n\u001b[1;32m   1217\u001b[0m             \u001b[0;32mexcept\u001b[0m \u001b[0mKeyboardInterrupt\u001b[0m\u001b[0;34m:\u001b[0m\u001b[0;34m\u001b[0m\u001b[0;34m\u001b[0m\u001b[0m\n\u001b[1;32m   1218\u001b[0m                 \u001b[0;31m# re-raise KeyboardInterrupt, to truncate traceback\u001b[0m\u001b[0;34m\u001b[0m\u001b[0;34m\u001b[0m\u001b[0m\n\u001b[0;32m-> 1219\u001b[0;31m                 \u001b[0;32mraise\u001b[0m \u001b[0mKeyboardInterrupt\u001b[0m\u001b[0;34m(\u001b[0m\u001b[0;34m\"Interrupted by user\"\u001b[0m\u001b[0;34m)\u001b[0m \u001b[0;32mfrom\u001b[0m \u001b[0;32mNone\u001b[0m\u001b[0;34m\u001b[0m\u001b[0;34m\u001b[0m\u001b[0m\n\u001b[0m\u001b[1;32m   1220\u001b[0m             \u001b[0;32mexcept\u001b[0m \u001b[0mException\u001b[0m\u001b[0;34m:\u001b[0m\u001b[0;34m\u001b[0m\u001b[0;34m\u001b[0m\u001b[0m\n\u001b[1;32m   1221\u001b[0m                 \u001b[0mself\u001b[0m\u001b[0;34m.\u001b[0m\u001b[0mlog\u001b[0m\u001b[0;34m.\u001b[0m\u001b[0mwarning\u001b[0m\u001b[0;34m(\u001b[0m\u001b[0;34m\"Invalid Message:\"\u001b[0m\u001b[0;34m,\u001b[0m \u001b[0mexc_info\u001b[0m\u001b[0;34m=\u001b[0m\u001b[0;32mTrue\u001b[0m\u001b[0;34m)\u001b[0m\u001b[0;34m\u001b[0m\u001b[0;34m\u001b[0m\u001b[0m\n",
            "\u001b[0;31mKeyboardInterrupt\u001b[0m: Interrupted by user"
          ]
        }
      ]
    },
    {
      "cell_type": "markdown",
      "source": [
        "check whetehr the given array is sorted in non decreasing order"
      ],
      "metadata": {
        "id": "C8ikPTOEw-of"
      }
    },
    {
      "cell_type": "code",
      "source": [
        "L = [10,20,30,40,50,50,70,60]\n",
        "flag= True\n",
        "for i in range(len(L)-1):\n",
        "    if L[i]<=L[i+1]:\n",
        "        flag=True\n",
        "    else:\n",
        "        flag=False\n",
        "\n",
        "        if flag:\n",
        "\n",
        "           print(\"YES\")\n",
        "\n",
        "        else:\n",
        "            print(\"NO\")"
      ],
      "metadata": {
        "id": "i6uuRyaCuc-Q"
      },
      "execution_count": null,
      "outputs": []
    },
    {
      "cell_type": "markdown",
      "source": [
        "find the length of the last word the given sentence"
      ],
      "metadata": {
        "id": "pjOy5kc01E8Q"
      }
    },
    {
      "cell_type": "code",
      "source": [
        "inpstr = input()\n",
        "cnt=0\n",
        "for i in range(len(inpstr)-1,-1,-1):\n",
        "    if inpstr[i]==\" \":\n",
        "        break;\n",
        "    else:\n",
        "        cnt=cnt+1\n",
        "print(cnt)"
      ],
      "metadata": {
        "id": "uCVD2Sef1EgL"
      },
      "execution_count": null,
      "outputs": []
    },
    {
      "cell_type": "markdown",
      "source": [
        "Code for finding second largest element from array"
      ],
      "metadata": {
        "id": "DSk2IIMD1lhV"
      }
    },
    {
      "cell_type": "code",
      "source": [
        "L=[100,10,50,25,50,100,10,25]\n",
        "L = sorted(L); flag = 0\n",
        "for i in range(len(L)-1,0,-1):\n",
        "    if L[i-1]!=L[i]:\n",
        "        flag=1\n",
        "        break;\n",
        "if flag == 1:\n",
        "            print(\"Second largest element is:\",L[i-1])\n",
        "else:\n",
        "            print(\"Second largest element is not present\")"
      ],
      "metadata": {
        "id": "TgQEDcbH9dgK"
      },
      "execution_count": null,
      "outputs": []
    },
    {
      "cell_type": "markdown",
      "source": [
        "Code for finding second largest element from array \\\\ without Onlog(n)"
      ],
      "metadata": {
        "id": "ZKTxGS8KEVaY"
      }
    },
    {
      "cell_type": "code",
      "source": [
        "L=[100,10,50,25,50,100,10,25]\n",
        "flar= float('-inf'); slar= float('-inf')\n",
        "for i in range(len(L)):\n",
        "    if L[i]>flar:\n",
        "        slar=flar\n",
        "        flar=L[i]\n",
        "    elif L[i]<flar and L[i]>slar:\n",
        "        slar=L[i]\n",
        "print(\"Second largest elemnt is:\",slar)"
      ],
      "metadata": {
        "id": "TL2MDj6eEU6N"
      },
      "execution_count": null,
      "outputs": []
    },
    {
      "cell_type": "markdown",
      "source": [
        "move all zeros to the end and append it also append the average of all non zero to the end"
      ],
      "metadata": {
        "id": "3wImGdN_JB3W"
      }
    },
    {
      "cell_type": "code",
      "source": [
        "L=[10,0,30,0,20]\n",
        "cnt=L.count(0)\n",
        "for i in range(cnt):\n",
        "    L.remove(0)\n",
        "avg=sum(L)//len(L)\n",
        "for i in range(cnt):\n",
        "    L.append(0)\n",
        "L.append(avg)\n",
        "print(*L)"
      ],
      "metadata": {
        "id": "uHpT46dhJPW0"
      },
      "execution_count": null,
      "outputs": []
    },
    {
      "cell_type": "markdown",
      "source": [
        "print last 10 digit in the given string eg:987-af-6-gh-98743210,ppp,56789-rrr"
      ],
      "metadata": {
        "id": "-bOhbierNa9P"
      }
    },
    {
      "cell_type": "code",
      "source": [
        "str1=\"987-af-6-gh-98743210,ppp,56789-rrr\"\n",
        "outstr=\"\";cnt=0\n",
        "\n",
        "for i in range(len(str1)-1,-1,-1):\n",
        "    if str1[i].isdigit():\n",
        "        outstr=outstr+str1[i]\n",
        "        cnt=cnt+1\n",
        "    if cnt==10:\n",
        "        break\n",
        "print(outstr[ : :-1])"
      ],
      "metadata": {
        "id": "RQ4ojVA1Nmms"
      },
      "execution_count": null,
      "outputs": []
    },
    {
      "cell_type": "markdown",
      "source": [
        "encoded string decoded"
      ],
      "metadata": {
        "id": "a5_dfzzMg_pZ"
      }
    },
    {
      "cell_type": "code",
      "source": [
        "inpstr = input()\n",
        "outstr=\"\";cnt=0\n",
        "for i in range(len(inpstr)):\n",
        "    if inpstr[i]=='0'and cnt>0:#cnt>0 is for avoiding 64 in ASCII which is @\n",
        "        outstr=outstr+chr(ord('A')+cnt-1)\n",
        "\n",
        "        cnt=0\n",
        "\n",
        "    elif inpstr[i]==\"1\":\n",
        "        cnt=cnt+1\n",
        "print(outstr)"
      ],
      "metadata": {
        "colab": {
          "base_uri": "https://localhost:8080/"
        },
        "id": "8pLTJiXlhGr5",
        "outputId": "284afaa7-73c0-49f2-afdf-8c5e28e60d73"
      },
      "execution_count": null,
      "outputs": [
        {
          "output_type": "stream",
          "name": "stdout",
          "text": [
            "01011011101111\n",
            "ABC\n"
          ]
        }
      ]
    },
    {
      "cell_type": "markdown",
      "source": [
        "input stuff"
      ],
      "metadata": {
        "id": "sT5FG_wbZ5Fc"
      }
    },
    {
      "cell_type": "code",
      "source": [
        "n=int(input())\n",
        "L = [int(input()) for i in range]"
      ],
      "metadata": {
        "id": "hGN-p_nIlJLl"
      },
      "execution_count": null,
      "outputs": []
    },
    {
      "cell_type": "markdown",
      "source": [
        "sum of all unique numbers in a list"
      ],
      "metadata": {
        "id": "0adteNDHz0SF"
      }
    },
    {
      "cell_type": "code",
      "source": [
        "L=[3,5,1,5,3,4,2,1,2,4]\n",
        "s=set(L)\n",
        "print(sum(s))"
      ],
      "metadata": {
        "colab": {
          "base_uri": "https://localhost:8080/"
        },
        "id": "opROGORzzzou",
        "outputId": "8ae0d749-e3da-4bbc-916d-23c17dc12176"
      },
      "execution_count": null,
      "outputs": [
        {
          "output_type": "stream",
          "name": "stdout",
          "text": [
            "15\n"
          ]
        }
      ]
    },
    {
      "cell_type": "markdown",
      "source": [
        "set"
      ],
      "metadata": {
        "id": "DFKLVqc71sus"
      }
    },
    {
      "cell_type": "code",
      "source": [
        "s1={4,2,3,4,3,1,5}\n",
        "s2={55.5,55.5,123,\"ram\"}\n",
        "print(s,type(s1))\n",
        "print(*s2)"
      ],
      "metadata": {
        "colab": {
          "base_uri": "https://localhost:8080/"
        },
        "id": "bvEokdcu1shS",
        "outputId": "ae9092e1-9456-4d18-ef08-a84243d97803"
      },
      "execution_count": null,
      "outputs": [
        {
          "output_type": "stream",
          "name": "stdout",
          "text": [
            "{1, 2, 3, 4, 5} <class 'set'>\n",
            "123 ram 55.5\n"
          ]
        }
      ]
    },
    {
      "cell_type": "markdown",
      "source": [
        "set (subset and superset)"
      ],
      "metadata": {
        "id": "qI8E5ddH28O6"
      }
    },
    {
      "cell_type": "code",
      "source": [
        "s1={1,2,3,4,3,7,3,5}\n",
        "s2={3,4,5}\n",
        "print(s1.issubset(s2))\n",
        "print(s2.issubset(s1))\n",
        "print(s1.issuperset(s2))\n",
        "print(s2.issuperset(s1))"
      ],
      "metadata": {
        "colab": {
          "base_uri": "https://localhost:8080/"
        },
        "id": "lAII7GWd28Bt",
        "outputId": "c98265ce-1601-4619-db92-d19bea9a18a7"
      },
      "execution_count": null,
      "outputs": [
        {
          "output_type": "stream",
          "name": "stdout",
          "text": [
            "False\n",
            "True\n",
            "True\n",
            "False\n"
          ]
        }
      ]
    },
    {
      "cell_type": "markdown",
      "source": [
        "union,intersection etc......."
      ],
      "metadata": {
        "id": "jk0lPEIh3GDR"
      }
    },
    {
      "cell_type": "code",
      "source": [
        "s1={1,2,3,4,5,6}\n",
        "s2={4,5,6,7,8}\n",
        "print(s1|s2)\n",
        "print(s1&s2)\n",
        "print(s1-s2)\n",
        "print(s2-s1)\n",
        "print(s2^s1)#union-intersection"
      ],
      "metadata": {
        "colab": {
          "base_uri": "https://localhost:8080/"
        },
        "id": "npLNBmtv3F0X",
        "outputId": "d54c184d-11cf-4715-d501-b7fc3bdd9c1f"
      },
      "execution_count": null,
      "outputs": [
        {
          "output_type": "stream",
          "name": "stdout",
          "text": [
            "{1, 2, 3, 4, 5, 6, 7, 8}\n",
            "{4, 5, 6}\n",
            "{1, 2, 3}\n",
            "{8, 7}\n",
            "{1, 2, 3, 7, 8}\n"
          ]
        }
      ]
    },
    {
      "cell_type": "markdown",
      "source": [
        "Pangram"
      ],
      "metadata": {
        "id": "zqwvk37Y30wL"
      }
    },
    {
      "cell_type": "code",
      "source": [
        "str1=\"the quick brown fox jumps over the lazy dog\"\n",
        "alph=\"abcdefghijklmnopqrstuvwxyz\"\n",
        "str1=str1.replace(\" \",\"\")\n",
        "str1=str1.lower()\n",
        "L1=sorted(set(str1))\n",
        "print(L1)\n",
        "str1=\"\".join(L1)\n",
        "print(str1)\n",
        "if(str1==alph):\n",
        "    print(\"the string is a pangram\")\n",
        "else:\n",
        "    print(\"not a pangram\")"
      ],
      "metadata": {
        "colab": {
          "base_uri": "https://localhost:8080/"
        },
        "id": "KRAKTXBS30mx",
        "outputId": "77f0a1cc-06aa-420c-c435-e8b6c14273e4"
      },
      "execution_count": null,
      "outputs": [
        {
          "output_type": "stream",
          "name": "stdout",
          "text": [
            "['a', 'b', 'c', 'd', 'e', 'f', 'g', 'h', 'i', 'j', 'k', 'l', 'm', 'n', 'o', 'p', 'q', 'r', 's', 't', 'u', 'v', 'w', 'x', 'y', 'z']\n",
            "abcdefghijklmnopqrstuvwxyz\n",
            "the string is a pangram\n"
          ]
        }
      ]
    },
    {
      "cell_type": "markdown",
      "source": [
        "both in s1 and s2"
      ],
      "metadata": {
        "id": "b3S0RC_B648A"
      }
    },
    {
      "cell_type": "code",
      "source": [
        "L1=[1,4,10,20,40,50]\n",
        "L2=[6,7,20,80,100]\n",
        "s1=set(L1)\n",
        "s2=set(L2)\n",
        "s3=s1&s2\n",
        "print(s3)"
      ],
      "metadata": {
        "id": "aaP2UGLd64yf"
      },
      "execution_count": null,
      "outputs": []
    },
    {
      "cell_type": "code",
      "source": [
        "Happy Number"
      ],
      "metadata": {
        "id": "dKTv1ByuGGdt"
      },
      "execution_count": null,
      "outputs": []
    },
    {
      "cell_type": "code",
      "source": [
        "n=int(input())\n",
        "seen_nums=set()\n",
        "while n!=1 and n not in seen_nums:\n",
        "    seen_nums.add(n); squaresum=0\n",
        "    while(n>0):\n",
        "        ld=n%10\n",
        "\n",
        "        squaresum=squaresum+ld**2\n",
        "\n",
        "        n=n//10\n",
        "    n=squaresum\n",
        "if n==1:\n",
        "    print(\"Happy number\")\n",
        "else:\n",
        "    print(\"Not happy number\")"
      ],
      "metadata": {
        "colab": {
          "base_uri": "https://localhost:8080/"
        },
        "id": "kPEKxc2YGOR8",
        "outputId": "5a06fe62-ec7e-4f25-c25c-56d8a464047d"
      },
      "execution_count": null,
      "outputs": [
        {
          "output_type": "stream",
          "name": "stdout",
          "text": [
            "19\n",
            "Happy number\n"
          ]
        }
      ]
    },
    {
      "cell_type": "markdown",
      "source": [
        "slicing"
      ],
      "metadata": {
        "id": "rbSxTGhmP1q6"
      }
    },
    {
      "cell_type": "code",
      "source": [
        "L[ : : ]#start,stop,step"
      ],
      "metadata": {
        "id": "L9wDfmhgP3Dz"
      },
      "execution_count": null,
      "outputs": []
    },
    {
      "cell_type": "code",
      "source": [
        "n = int(input(\"Enter a number: \"))\n",
        "max_digit = 0\n",
        "\n",
        "while n > 0:\n",
        "    digit = n % 10         # 🪒 Shave off the last digit\n",
        "    if digit > max_digit:  # 🔍 Compare it with current max\n",
        "        max_digit = digit  # 💾 Keep the bigger one\n",
        "    n = n // 10            # ✂️ Cut off the last digit\n",
        "\n",
        "print(\"Largest digit is:\", max_digit)\n"
      ],
      "metadata": {
        "colab": {
          "base_uri": "https://localhost:8080/"
        },
        "id": "IyOGs9RZww25",
        "outputId": "1db51f69-28a7-43ef-c2c9-fe222cfbbf96"
      },
      "execution_count": null,
      "outputs": [
        {
          "output_type": "stream",
          "name": "stdout",
          "text": [
            "Enter a number: 89157795\n",
            "Largest digit is: 9\n"
          ]
        }
      ]
    },
    {
      "cell_type": "markdown",
      "source": [
        "BASIC STRING 3"
      ],
      "metadata": {
        "id": "uAshkWPsSxhi"
      }
    },
    {
      "cell_type": "code",
      "source": [
        "str1 = input();str2=input()\n",
        "flag=0\n",
        "for i in range(len(str2)):\n",
        "    str2=str2[1:]+str2[:1]\n",
        "    if str1==str2:\n",
        "        flag=1\n",
        "        break\n",
        "if flag ==1:\n",
        "    print(\"YES\")\n",
        "else:\n",
        "    print(\"NO\")\n"
      ],
      "metadata": {
        "colab": {
          "base_uri": "https://localhost:8080/"
        },
        "id": "V8Jn3SwWS0xX",
        "outputId": "a3b1a14f-97b7-4228-c05e-cb97ba52bc51"
      },
      "execution_count": null,
      "outputs": [
        {
          "output_type": "stream",
          "name": "stdout",
          "text": [
            "ABCD\n",
            "DACB\n",
            "NO\n"
          ]
        }
      ]
    },
    {
      "cell_type": "markdown",
      "source": [
        "alphabet arranged based upon input"
      ],
      "metadata": {
        "id": "S4jzQW2h42Cm"
      }
    },
    {
      "cell_type": "code",
      "source": [
        "n=int(input())\n",
        "for i in range(1,n+1):\n",
        "  print(\" \"*(n-i),end=\" \")\n",
        "  for j in range(i):\n",
        "    print(chr(65+j),end=\" \")\n",
        "  print()"
      ],
      "metadata": {
        "colab": {
          "base_uri": "https://localhost:8080/"
        },
        "id": "ycNCzscL41R6",
        "outputId": "43dd34d8-7666-4b1b-e79e-e5163575804a"
      },
      "execution_count": null,
      "outputs": [
        {
          "output_type": "stream",
          "name": "stdout",
          "text": [
            "5\n",
            "     A \n",
            "    A B \n",
            "   A B C \n",
            "  A B C D \n",
            " A B C D E \n"
          ]
        }
      ]
    },
    {
      "cell_type": "markdown",
      "source": [
        
      ],
      "metadata": {
        "id": "GXuOSGo_Wpld"
      }
    },
    {
      "cell_type": "markdown",
      "source": [],
      "metadata": {
        "id": "ZzuPOKW_Wwf3"
      }
    },
    {
      "cell_type": "markdown",
      "source": [
        "# **TECHNICAL TRAINING**"
      ],
      "metadata": {
        "id": "aygy6Ew4XrsI"
      }
    },
    {
      "cell_type": "code",
      "source": [
        "a=int(input())\n",
        "b=int(input())\n",
        "if a>b:\n",
        "  print(\"a is great\")\n",
        "if b>a:\n",
        "  print(\"b is grt\")\n",
        "if a==b:\n",
        "  print(\"both equal\")"
      ],
      "metadata": {
        "colab": {
          "base_uri": "https://localhost:8080/"
        },
        "id": "X_ilFOIoXsRe",
        "outputId": "be7a60e2-cee0-4f13-e760-22ee8c64ace0"
      },
      "execution_count": null,
      "outputs": [
        {
          "output_type": "stream",
          "name": "stdout",
          "text": [
            "6\n",
            "5\n",
            "a is great\n"
          ]
        }
      ]
    },
    {
      "cell_type": "code",
      "source": [
        "a=int(input())\n",
        "b=int(input())\n",
        "if a>b:\n",
        "  print(a, \"is great\")\n",
        "if b>a:\n",
        "  print(\"b is grt\")\n",
        "if a==b:\n",
        "  print(\"both equal\")"
      ],
      "metadata": {
        "colab": {
          "base_uri": "https://localhost:8080/"
        },
        "id": "APswpNoCcwnq",
        "outputId": "0f927efe-24b1-45be-9309-9ec36685770b"
      },
      "execution_count": null,
      "outputs": [
        {
          "output_type": "stream",
          "name": "stdout",
          "text": [
            "6\n",
            "5\n",
            "6 is great\n"
          ]
        }
      ]
    },
    {
      "cell_type": "code",
      "source": [
        "a=int(input())\n",
        "b=int(input())\n",
        "if a>b:\n",
        "  print(\"a is great\")\n",
        "elif b>a:#elif makes sure that if if is true elif not executed\n",
        "  print(\"b is grt\")\n",
        "else:#same as elif\n",
        "  print(\"both equal\")"
      ],
      "metadata": {
        "colab": {
          "base_uri": "https://localhost:8080/"
        },
        "id": "fhTDENdac8QP",
        "outputId": "aacaa642-07c5-4a86-9108-3a0ab706283a"
      },
      "execution_count": null,
      "outputs": [
        {
          "output_type": "stream",
          "name": "stdout",
          "text": [
            "6\n",
            "8\n",
            "b is grt\n"
          ]
        }
      ]
    },
    {
      "cell_type": "code",
      "source": [
        "a=int(input())\n",
        "b=int(input())\n",
        "c=int(input())\n",
        "if a>b and a>c:\n",
        "    print(\"a is great\")\n",
        "elif b>a and b>c:\n",
        "    print(\"b is great\")\n",
        "elif c>a and c>b:#not else because if 777 come else will print that isn't viable\n",
        "    print(\"c is great\")"
      ],
      "metadata": {
        "colab": {
          "base_uri": "https://localhost:8080/"
        },
        "id": "Ap-J6XneeOmA",
        "outputId": "a617f305-bf36-43dd-b89e-766418f74d90"
      },
      "execution_count": null,
      "outputs": [
        {
          "output_type": "stream",
          "name": "stdout",
          "text": [
            "9\n",
            "5\n",
            "2\n",
            "a is great\n"
          ]
        }
      ]
    },
    {
      "cell_type": "markdown",
      "source": [],
      "metadata": {
        "id": "RCaLj2wLUocY"
      }
    },
    {
      "cell_type": "code",
      "source": [
        "a=[6,5,7,8,4,8]\n",
        "for i in a:#once the iterartion start and you remove first number (0 th number)then\n",
        "# on second iteration you remove 1 st number from the already operated list\n",
        "#repeat the process..........\n",
        "  a.remove(i)\n",
        "print(a)"
      ],
      "metadata": {
        "colab": {
          "base_uri": "https://localhost:8080/"
        },
        "id": "wzSrD2aMqy5H",
        "outputId": "bd23b705-b203-4b8b-ced0-21a2bf5f6116"
      },
      "execution_count": null,
      "outputs": [
        {
          "output_type": "stream",
          "name": "stdout",
          "text": [
            "[5, 8, 8]\n"
          ]
        }
      ]
    },
    {
      "cell_type": "code",
      "source": [
        "a=[6,5,7,8,4,]\n",
        "a.append(10)#attach to last in a list\n",
        "print(a)\n",
        "a.extend([4,5,6])#just extend the list\n",
        "print(a)\n",
        "a.insert(3,300)#insert a value in the index\n",
        "print(a)\n",
        "a.remove(5)#remove means we remove the value mentioned not the value in the index\n",
        "print(a)\n",
        "a.pop(4)#just pop means remove from last if (4) is given remove from that index\n",
        "print(a)\n",
        "a.sort(reverse=True)#first sort the list in ascending order and then reverse the sorted list\n",
        "print(a)"
      ],
      "metadata": {
        "colab": {
          "base_uri": "https://localhost:8080/"
        },
        "id": "6GbAK40vY3Md",
        "outputId": "aa6cae0c-de77-434e-9705-5a4f1c6f7672"
      },
      "execution_count": null,
      "outputs": [
        {
          "output_type": "stream",
          "name": "stdout",
          "text": [
            "[6, 5, 7, 8, 4, 10]\n",
            "[6, 5, 7, 8, 4, 10, 4, 5, 6]\n",
            "[6, 5, 7, 300, 8, 4, 10, 4, 5, 6]\n",
            "[6, 7, 300, 8, 4, 10, 4, 5, 6]\n",
            "[6, 7, 300, 8, 10, 4, 5, 6]\n",
            "[300, 10, 8, 7, 6, 6, 5, 4]\n"
          ]
        }
      ]
    },
    {
      "cell_type": "code",
      "source": [
        "a={6,9,8,6,7,8}\n",
        "b={7,2,8,3,1}\n",
        "c=a.union(b)\n",
        "print(c)\n",
        "d=a.intersection(b)\n",
        "print(d)\n",
        "e=a.symmetric_difference(b)#remove the common values and then sum the remaning\n",
        "print(e)\n",
        "f=a.difference(b)#a-b and remaing values of a\n",
        "print(f)\n",
        "a.remove(6)#shows error if key not found\n",
        "print(a)\n",
        "b.discard(7)#doesnt show erroe no matter what\n",
        "print(b)\n",
        "\n"
      ],
      "metadata": {
        "colab": {
          "base_uri": "https://localhost:8080/"
        },
        "id": "j_UdeXBB5tsF",
        "outputId": "da5863cf-ff2d-478d-b819-dc28fd0a127a"
      },
      "execution_count": null,
      "outputs": [
        {
          "output_type": "stream",
          "name": "stdout",
          "text": [
            "{1, 2, 3, 6, 7, 8, 9}\n",
            "{8, 7}\n",
            "{1, 2, 3, 6, 9}\n",
            "{9, 6}\n",
            "{8, 9, 7}\n",
            "{1, 2, 3, 8}\n"
          ]
        }
      ]
    },
    {
      "cell_type": "code",
      "source": [
        "a={5:9,2:6,3:1,7:3}\n",
        "print(a.items())\n",
        "print(a.keys())\n",
        "print(a.values())\n"
      ],
      "metadata": {
        "colab": {
          "base_uri": "https://localhost:8080/"
        },
        "id": "EvabnF6d778e",
        "outputId": "6da30574-63d2-403b-8142-f7ccff38f1a4"
      },
      "execution_count": null,
      "outputs": [
        {
          "output_type": "stream",
          "name": "stdout",
          "text": [
            "dict_items([(5, 9), (2, 6), (3, 1), (7, 3)])\n",
            "dict_keys([5, 2, 3, 7])\n",
            "dict_values([9, 6, 1, 3])\n"
          ]
        }
      ]
    },
    {
      "cell_type": "code",
      "source": [
        "def qwer():\n",
        "  print(\"hi\")\n",
        "qwer()\n"
      ],
      "metadata": {
        "colab": {
          "base_uri": "https://localhost:8080/"
        },
        "id": "1tfjgqlAKxDk",
        "outputId": "010df5ec-7b32-452e-9dac-9441279df10f"
      },
      "execution_count": null,
      "outputs": [
        {
          "output_type": "stream",
          "name": "stdout",
          "text": [
            "hi\n"
          ]
        }
      ]
    },
    {
      "cell_type": "code",
      "source": [
        "def qwer(x):#defining function so that if and else condition need not be reapted for every input\n",
        "  if(x%2==0):\n",
        "    print(\"e\")\n",
        "  else:\n",
        "    print(\"o\")\n",
        "a=int(input())\n",
        "qwer(a) #calling function for a input\n",
        "b=int(input())\n",
        "qwer(b)  #calling function for b input\n",
        "\n",
        "\n"
      ],
      "metadata": {
        "colab": {
          "base_uri": "https://localhost:8080/"
        },
        "id": "gRRkJJcvOaJT",
        "outputId": "41256f6c-8ba9-4e41-8618-50b94c44b733"
      },
      "execution_count": null,
      "outputs": [
        {
          "output_type": "stream",
          "name": "stdout",
          "text": [
            "51\n",
            "o\n",
            "88\n",
            "e\n"
          ]
        }
      ]
    },
    {
      "cell_type": "code",
      "source": [
        "def fisat(x):\n",
        "  print(\"hi\",x)\n",
        "fisat(10)\n",
        "fisat(20)"
      ],
      "metadata": {
        "colab": {
          "base_uri": "https://localhost:8080/"
        },
        "id": "pBMU4LjSa9OR",
        "outputId": "06abc3f2-ab30-47a1-b515-7a4ade5d81f0"
      },
      "execution_count": null,
      "outputs": [
        {
          "output_type": "stream",
          "name": "stdout",
          "text": [
            "hi 10\n",
            "hi 20\n"
          ]
        }
      ]
    },
    {
      "cell_type": "code",
      "source": [
        "def fisat(x,y):\n",
        "  print(\"hi\",x,y)\n",
        "fisat(50,10)"
      ],
      "metadata": {
        "colab": {
          "base_uri": "https://localhost:8080/"
        },
        "id": "K8Tg2Pyeblou",
        "outputId": "21bae988-9190-4f46-e8cc-7b847f3995d9"
      },
      "execution_count": null,
      "outputs": [
        {
          "output_type": "stream",
          "name": "stdout",
          "text": [
            "hi 50 10\n"
          ]
        }
      ]
    },
    {
      "cell_type": "code",
      "source": [
        "def fisat(x=600,y):\n",
        "  print(\"hi\",x,y)\n",
        "fisat(10,20)  #reason for error is 600  is the only default here and you cannot pass value directly to y"
      ],
      "metadata": {
        "colab": {
          "base_uri": "https://localhost:8080/",
          "height": 108
        },
        "id": "o9XRr5OgbyVP",
        "outputId": "45368296-6d65-4f7b-81ef-76b35a641f9a"
      },
      "execution_count": null,
      "outputs": [
        {
          "output_type": "error",
          "ename": "SyntaxError",
          "evalue": "non-default argument follows default argument (ipython-input-22-144092464.py, line 1)",
          "traceback": [
            "\u001b[0;36m  File \u001b[0;32m\"/tmp/ipython-input-22-144092464.py\"\u001b[0;36m, line \u001b[0;32m1\u001b[0m\n\u001b[0;31m    def fisat(x=600,y):\u001b[0m\n\u001b[0m                    ^\u001b[0m\n\u001b[0;31mSyntaxError\u001b[0m\u001b[0;31m:\u001b[0m non-default argument follows default argument\n"
          ]
        }
      ]
    },
    {
      "cell_type": "code",
      "source": [
        "def fisat(*x):\n",
        "  print(\"hi\",x)\n",
        "fisat(10,8,7,6,4,3,9)"
      ],
      "metadata": {
        "colab": {
          "base_uri": "https://localhost:8080/"
        },
        "id": "PPAmDVDydEvq",
        "outputId": "4a889d82-50f5-4066-e731-b2149b828d31"
      },
      "execution_count": null,
      "outputs": [
        {
          "output_type": "stream",
          "name": "stdout",
          "text": [
            "hi (10, 8, 7, 6, 4, 3, 9)\n"
          ]
        }
      ]
    },
    {
      "cell_type": "code",
      "source": [
        "def fisat(*x,a,b):\n",
        "  print(\"hi\",x,a,b)\n",
        "fisat(10,8,7,6,4,3,9)  #eror because *x consumes all the values to form a tuple none left"
      ],
      "metadata": {
        "colab": {
          "base_uri": "https://localhost:8080/",
          "height": 180
        },
        "id": "judtV7mneBtP",
        "outputId": "83a2a757-7537-413c-ef9f-6607d01fb0f1"
      },
      "execution_count": null,
      "outputs": [
        {
          "output_type": "error",
          "ename": "TypeError",
          "evalue": "fisat() missing 2 required keyword-only arguments: 'a' and 'b'",
          "traceback": [
            "\u001b[0;31m---------------------------------------------------------------------------\u001b[0m",
            "\u001b[0;31mTypeError\u001b[0m                                 Traceback (most recent call last)",
            "\u001b[0;32m/tmp/ipython-input-24-1829848688.py\u001b[0m in \u001b[0;36m<cell line: 0>\u001b[0;34m()\u001b[0m\n\u001b[1;32m      1\u001b[0m \u001b[0;32mdef\u001b[0m \u001b[0mfisat\u001b[0m\u001b[0;34m(\u001b[0m\u001b[0;34m*\u001b[0m\u001b[0mx\u001b[0m\u001b[0;34m,\u001b[0m\u001b[0ma\u001b[0m\u001b[0;34m,\u001b[0m\u001b[0mb\u001b[0m\u001b[0;34m)\u001b[0m\u001b[0;34m:\u001b[0m\u001b[0;34m\u001b[0m\u001b[0;34m\u001b[0m\u001b[0m\n\u001b[1;32m      2\u001b[0m   \u001b[0mprint\u001b[0m\u001b[0;34m(\u001b[0m\u001b[0;34m\"hi\"\u001b[0m\u001b[0;34m,\u001b[0m\u001b[0mx\u001b[0m\u001b[0;34m,\u001b[0m\u001b[0ma\u001b[0m\u001b[0;34m,\u001b[0m\u001b[0mb\u001b[0m\u001b[0;34m)\u001b[0m\u001b[0;34m\u001b[0m\u001b[0;34m\u001b[0m\u001b[0m\n\u001b[0;32m----> 3\u001b[0;31m \u001b[0mfisat\u001b[0m\u001b[0;34m(\u001b[0m\u001b[0;36m10\u001b[0m\u001b[0;34m,\u001b[0m\u001b[0;36m8\u001b[0m\u001b[0;34m,\u001b[0m\u001b[0;36m7\u001b[0m\u001b[0;34m,\u001b[0m\u001b[0;36m6\u001b[0m\u001b[0;34m,\u001b[0m\u001b[0;36m4\u001b[0m\u001b[0;34m,\u001b[0m\u001b[0;36m3\u001b[0m\u001b[0;34m,\u001b[0m\u001b[0;36m9\u001b[0m\u001b[0;34m)\u001b[0m\u001b[0;34m\u001b[0m\u001b[0;34m\u001b[0m\u001b[0m\n\u001b[0m",
            "\u001b[0;31mTypeError\u001b[0m: fisat() missing 2 required keyword-only arguments: 'a' and 'b'"
          ]
        }
      ]
    },
    {
      "cell_type": "code",
      "source": [
        "def fisat(a,b,*x):\n",
        "  print(\"hi\",x,a,b)\n",
        "fisat(10,8,7,6,4,3,9)"
      ],
      "metadata": {
        "colab": {
          "base_uri": "https://localhost:8080/"
        },
        "id": "IMIVXCtHeRhY",
        "outputId": "ee93d934-3c95-4216-9597-b59f8c554561"
      },
      "execution_count": null,
      "outputs": [
        {
          "output_type": "stream",
          "name": "stdout",
          "text": [
            "hi (7, 6, 4, 3, 9) 10 8\n"
          ]
        }
      ]
    },
    {
      "cell_type": "markdown",
      "source": [
        "s**um of even**"
      ],
      "metadata": {
        "id": "lpV-sSqdlFBo"
      }
    },
    {
      "cell_type": "code",
      "source": [
        "a=[7,2,6,4,1,2,8,9,4]\n",
        "sum=0\n",
        "for i in range(0,9,1):\n",
        "    if a[i]%2==0:\n",
        "        sum=sum+a[i]\n",
        "print(sum)"
      ],
      "metadata": {
        "colab": {
          "base_uri": "https://localhost:8080/"
        },
        "id": "r8lNsKa6g-MT",
        "outputId": "40fc610a-d9fa-4e03-d2dc-05c0e6f677b8"
      },
      "execution_count": null,
      "outputs": [
        {
          "output_type": "stream",
          "name": "stdout",
          "text": [
            "26\n"
          ]
        }
      ]
    },
    {
      "cell_type": "markdown",
      "source": [
        "**sum of even index**"
      ],
      "metadata": {
        "id": "r3E-FFOAmYNa"
      }
    },
    {
      "cell_type": "code",
      "source": [
        "a=[7,2,6,4,1,2,8,9,4]\n",
        "sum=0\n",
        "for i in range(0,9,1):\n",
        "  if i%2==0:\n",
        "    sum=sum+i\n",
        "print(sum)\n"
      ],
      "metadata": {
        "colab": {
          "base_uri": "https://localhost:8080/"
        },
        "id": "FSY9TognlPwK",
        "outputId": "4c43eb9f-64ae-45b8-f3d0-15aeccb16900"
      },
      "execution_count": null,
      "outputs": [
        {
          "output_type": "stream",
          "name": "stdout",
          "text": [
            "20\n"
          ]
        }
      ]
    },
    {
      "cell_type": "markdown",
      "source": [
        "sum of element in even and odd index"
      ],
      "metadata": {
        "id": "dUd7v4ZEmeYc"
      }
    },
    {
      "cell_type": "code",
      "source": [
        "a=[7,2,6,4,1,2,8,9,4]\n",
        "sum=0\n",
        "sum1=0\n",
        "sum2=0\n",
        "for i in range(0,9,1):\n",
        "    if a[i]%2==0:\n",
        "        sum=sum+a[i]\n",
        "    else:\n",
        "      sum1=sum1+a[i]\n",
        "sum2=sum+sum1\n",
        "\n",
        "print(sum2)"
      ],
      "metadata": {
        "colab": {
          "base_uri": "https://localhost:8080/"
        },
        "id": "-9EGLZ1xlawh",
        "outputId": "fd101188-58d6-4bcc-ea6a-87de7ab88d27"
      },
      "execution_count": null,
      "outputs": [
        {
          "output_type": "stream",
          "name": "stdout",
          "text": [
            "43\n"
          ]
        }
      ]
    },
    {
      "cell_type": "markdown",
      "source": [
        "adding"
      ],
      "metadata": {
        "id": "oGbtn4wynSSi"
      }
    },
    {
      "cell_type": "code",
      "source": [
        "a=[5,3,4,1,6,7]\n",
        "b=[8,5,7,1,3,4]\n",
        "\n",
        "for i in range(len(a)):\n",
        "  sum=a[i]+b[i]\n",
        "  print (sum,end=\" \")"
      ],
      "metadata": {
        "colab": {
          "base_uri": "https://localhost:8080/"
        },
        "id": "qNyHtdkLnSyd",
        "outputId": "15a51d63-8010-4727-c4d8-6e016c0bd58f"
      },
      "execution_count": null,
      "outputs": [
        {
          "output_type": "stream",
          "name": "stdout",
          "text": [
            "13 8 11 2 9 11 "
          ]
        }
      ]
    },
    {
      "cell_type": "code",
      "source": [
        "a=[5,3,4,1,6,7]\n",
        "b=[8,5,7,1,3,4]\n",
        "\n",
        "for i,j in zip(a.b):\n",
        "\n",
        "  print (i+j,end=\" \")"
      ],
      "metadata": {
        "colab": {
          "base_uri": "https://localhost:8080/"
        },
        "outputId": "15a51d63-8010-4727-c4d8-6e016c0bd58f",
        "id": "iBDTw8fPsZEF"
      },
      "execution_count": null,
      "outputs": [
        {
          "output_type": "stream",
          "name": "stdout",
          "text": [
            "13 8 11 2 9 11 "
          ]
        }
      ]
    },
    {
      "cell_type": "markdown",
      "source": [
        "adding two list if data is not same len"
      ],
      "metadata": {
        "id": "SsPIrBw4r_-l"
      }
    },
    {
      "cell_type": "code",
      "source": [
        "a=[5,3,4,1,6]\n",
        "b=[8,5,7,1,3,4]\n",
        "\n",
        "for i in range(len(a)):\n",
        "  for j in range(len(b)):\n",
        "    sum=a[i]+b[i]\n",
        "  print (sum,end=\" \")"
      ],
      "metadata": {
        "colab": {
          "base_uri": "https://localhost:8080/"
        },
        "id": "nYcHaixxrU6N",
        "outputId": "8de23da4-9370-463d-d9b4-e6bda01e5c12"
      },
      "execution_count": null,
      "outputs": [
        {
          "output_type": "stream",
          "name": "stdout",
          "text": [
            "13 8 11 2 9 "
          ]
        }
      ]
    },
    {
      "cell_type": "markdown",
      "source": [
        "adding first and last values of a and b"
      ],
      "metadata": {
        "id": "Bj-wEa0ysuTU"
      }
    },
    {
      "cell_type": "code",
      "source": [
        "a=[5,3,4,1,6,7]\n",
        "b=[8,5,7,1,3,4]\n",
        "\n",
        "for i in range(0,len(a),1):\n",
        "  print (a[i]+b[-1-i],end=' ')"
      ],
      "metadata": {
        "colab": {
          "base_uri": "https://localhost:8080/"
        },
        "outputId": "e2b73c21-ac50-4e44-d834-96da17ae51d6",
        "id": "kA-FhWP-tDk2"
      },
      "execution_count": null,
      "outputs": [
        {
          "output_type": "stream",
          "name": "stdout",
          "text": [
            "9 6 5 8 11 15 "
          ]
        }
      ]
    },
    {
      "cell_type": "code",
      "source": [
        "def fisat():\n",
        "  print(\"hi\")\n",
        "  print(2)\n",
        "def zcx():\n",
        "  print(\"hello\")\n",
        "  fisat()\n",
        "  print(3)\n",
        "fisat()\n",
        "print(1)\n",
        "zcx()\n",
        "print(1)\n",
        "fisat()\n",
        "\n"
      ],
      "metadata": {
        "colab": {
          "base_uri": "https://localhost:8080/"
        },
        "id": "JsGnd1GIUhkk",
        "outputId": "6bcede20-ae18-4e5d-99c8-939adc3bbdae"
      },
      "execution_count": null,
      "outputs": [
        {
          "output_type": "stream",
          "name": "stdout",
          "text": [
            "hi\n",
            "2\n",
            "1\n",
            "hello\n",
            "hi\n",
            "2\n",
            "3\n",
            "1\n",
            "hi\n",
            "2\n"
          ]
        }
      ]
    },
    {
      "cell_type": "code",
      "source": [
        "a=[4,2,3,0,1]\n",
        "b=[]\n",
        "for i in a:\n",
        "  b.append(a[i])#it will take like a[3],a[1],a[4],a[2],a[0]\n",
        "b.extend([5,8,1])\n",
        "b.insert(3,8)\n",
        "print(b[2]+b.count(10)+len(b))\n"
      ],
      "metadata": {
        "colab": {
          "base_uri": "https://localhost:8080/"
        },
        "id": "XLnVWQ1ss2u7",
        "outputId": "d6e4790e-1709-43ab-b50b-c043b396f288"
      },
      "execution_count": null,
      "outputs": [
        {
          "output_type": "stream",
          "name": "stdout",
          "text": [
            "9\n"
          ]
        }
      ]
    },
    {
      "cell_type": "code",
      "source": [
        "a=[3,1,4,2,0]\n",
        "b=[6,5]\n",
        "for i in a:\n",
        "  b.append(a[i])\n",
        "b.pop(2)\n",
        "b.insert(3,8)\n",
        "b.extend([2,3,4])\n",
        "print(b[5]+b[2]+b[-3])\n",
        "print(b)\n"
      ],
      "metadata": {
        "id": "8hBa0_1BuBF7",
        "colab": {
          "base_uri": "https://localhost:8080/"
        },
        "outputId": "ba554eb5-3b7a-4272-cef2-9bc84f6ec41e"
      },
      "execution_count": null,
      "outputs": [
        {
          "output_type": "stream",
          "name": "stdout",
          "text": [
            "7\n",
            "[6, 5, 1, 8, 0, 4, 3, 2, 3, 4]\n"
          ]
        }
      ]
    },
    {
      "cell_type": "code",
      "source": [
        "a=['j','R','f','y','a','i']\n",
        "a.sort()\n",
        "print(a)"
      ],
      "metadata": {
        "colab": {
          "base_uri": "https://localhost:8080/"
        },
        "id": "0CWAeIEtywbg",
        "outputId": "8ac5037a-796e-4d72-cb37-7acff4d70889"
      },
      "execution_count": null,
      "outputs": [
        {
          "output_type": "stream",
          "name": "stdout",
          "text": [
            "['R', 'a', 'f', 'i', 'j', 'y']\n"
          ]
        }
      ]
    },
    {
      "cell_type": "code",
      "source": [
        "a=['hello','car','apple','hey','students',]\n",
        "a.sort()\n",
        "print(a)"
      ],
      "metadata": {
        "colab": {
          "base_uri": "https://localhost:8080/"
        },
        "id": "g5MT-gnhzojk",
        "outputId": "4980a002-ac26-4f2f-f406-8ee119012cd8"
      },
      "execution_count": null,
      "outputs": [
        {
          "output_type": "stream",
          "name": "stdout",
          "text": [
            "['apple', 'car', 'hello', 'hey', 'students']\n"
          ]
        }
      ]
    },
    {
      "cell_type": "code",
      "source": [
        "#when we need to arrage based on lenghth\n",
        "a=['hello','car','apple','hey','students',]\n",
        "b=[]\n",
        "for i in a:\n",
        "  b.append(len(i))\n",
        "print(b)\n",
        "c=list(zip(b,a))\n",
        "print(c)\n",
        "c.sort()\n",
        "print(c)\n",
        "\n",
        "\n"
      ],
      "metadata": {
        "colab": {
          "base_uri": "https://localhost:8080/"
        },
        "id": "rDgrV1m6z1nB",
        "outputId": "77b834c6-45f6-4891-b676-d15c37eeb865"
      },
      "execution_count": null,
      "outputs": [
        {
          "output_type": "stream",
          "name": "stdout",
          "text": [
            "[5, 3, 5, 3, 8]\n",
            "[(5, 'hello'), (3, 'car'), (5, 'apple'), (3, 'hey'), (8, 'students')]\n",
            "[(3, 'car'), (3, 'hey'), (5, 'apple'), (5, 'hello'), (8, 'students')]\n"
          ]
        }
      ]
    },
    {
      "cell_type": "code",
      "source": [
        "a=[5,7,3,2,8,6,1]\n",
        "print(a[0:6])\n",
        "print(a[0:7:2])"
      ],
      "metadata": {
        "colab": {
          "base_uri": "https://localhost:8080/"
        },
        "id": "gbmwWhXP4p20",
        "outputId": "7cec3ae4-5914-48c4-a7be-2ed6ee6ee3e2"
      },
      "execution_count": null,
      "outputs": [
        {
          "output_type": "stream",
          "name": "stdout",
          "text": [
            "[5, 7, 3, 2, 8, 6]\n",
            "[5, 3, 8, 1]\n"
          ]
        }
      ]
    },
    {
      "cell_type": "markdown",
      "source": [
        "ḶEET **CODE**"
      ],
      "metadata": {
        "id": "SfMxNElcnxYJ"
      }
    },
    {
      "cell_type": "code",
      "source": [
        "a=[2,7,11,15]\n",
        "t=9\n",
        "for i in range(len(a)-1):\n",
        "  for j in range(i+1,len(a)):\n",
        "    if(a[i]+a[j]==t):\n",
        "        print(i,j)"
      ],
      "metadata": {
        "colab": {
          "base_uri": "https://localhost:8080/"
        },
        "id": "-RKHGboEnwz6",
        "outputId": "993ea03e-c2c0-476c-db47-2479d9c021aa"
      },
      "execution_count": null,
      "outputs": [
        {
          "output_type": "stream",
          "name": "stdout",
          "text": [
            "0 1\n"
          ]
        }
      ]
    },
    {
      "cell_type": "markdown",
      "source": [
        "sorting"
      ],
      "metadata": {
        "id": "kmtmmcbBB9st"
      }
    },
    {
      "cell_type": "code",
      "source": [
        "a=[2,4,6,7,9,10]\n",
        "b=[3,5,7,8,12,13]\n",
        "a.sort()\n",
        "a.extend(b)\n",
        "a.sort()\n",
        "print(a)\n",
        "\n"
      ],
      "metadata": {
        "colab": {
          "base_uri": "https://localhost:8080/"
        },
        "id": "zel9CQB_B8BN",
        "outputId": "d509eb0d-f5fd-4dad-80a6-91f00b5a1ad4"
      },
      "execution_count": null,
      "outputs": [
        {
          "output_type": "stream",
          "name": "stdout",
          "text": [
            "[2, 3, 4, 5, 6, 7, 7, 8, 9, 10, 12, 13]\n"
          ]
        }
      ]
    },
    {
      "cell_type": "markdown",
      "source": [
        "**sorting without sort function"
      ],
      "metadata": {
        "id": "3RM_tObRGAh1"
      }
    },
    {
      "cell_type": "code",
      "source": [
        "a=[2,4,6,7,9,10]\n",
        "b=[3,5,7,8,12,13]\n",
        "c=[]\n",
        "i=0\n",
        "j=0\n",
        "while(i<len(a) and j<len(b)):\n",
        "  if(a[i]<b[j]):# comparing each element of respective list\n",
        "    c.append(a[i])#if list a has it smll append that value to c\n",
        "    i=i+1\n",
        "  else:\n",
        "    c.append(b[j])# \"\n",
        "    j=j+1\n",
        "while(j<len(b)):#if a is finished the append rest of b to c\n",
        "  c.append(b[j])\n",
        "  j=j+1\n",
        "while(i<len(a)):# \"\n",
        "  c.append(a[i])\n",
        "  i=i+1\n",
        "print(c)\n",
        "\n"
      ],
      "metadata": {
        "colab": {
          "base_uri": "https://localhost:8080/"
        },
        "id": "srUee8N7GAK2",
        "outputId": "dace1a83-6487-4357-b546-65a75c67b325"
      },
      "execution_count": null,
      "outputs": [
        {
          "output_type": "stream",
          "name": "stdout",
          "text": [
            "[2, 3, 4, 5, 6, 7, 7, 8, 9, 10, 12, 13]\n"
          ]
        }
      ]
    },
    {
      "cell_type": "markdown",
      "source": [
        "stocks profit(leet code)"
      ],
      "metadata": {
        "id": "x1tWFM0VyKWm"
      }
    },
    {
      "cell_type": "code",
      "source": [
        "prices = [7,1,5,3,6,4]\n",
        "pr=[]\n",
        "for i in range(len(prices)-1):#to not be out of bound\n",
        "    for j in range(i+1,len(prices)):\n",
        "        pr.append(prices[j]-prices[i])\n",
        "print(pr)\n",
        "print(max(pr))\n",
        "\n",
        "\n"
      ],
      "metadata": {
        "colab": {
          "base_uri": "https://localhost:8080/"
        },
        "id": "w8JsNxqqWJvN",
        "outputId": "6c5e27dd-38e7-4775-93a9-24e0601fa0ed"
      },
      "execution_count": null,
      "outputs": [
        {
          "output_type": "stream",
          "name": "stdout",
          "text": [
            "[-6, -2, -4, -1, -3, 4, 2, 5, 3, -2, 1, -1, 3, 1, -2]\n",
            "5\n"
          ]
        }
      ]
    },
    {
      "cell_type": "markdown",
      "source": [
        "stocks profit(leet code) with time limit followed"
      ],
      "metadata": {
        "id": "3KhSELaW1qz3"
      }
    },
    {
      "cell_type": "code",
      "source": [
        "\n",
        "prices=[7,1,5,3,6,4]\n",
        "b=prices[0]\n",
        "pr=0\n",
        "for i in prices:\n",
        "    if (i<b):\n",
        "        b=i\n",
        "    else:\n",
        "        if (i-b>pr):\n",
        "            pr=i-b\n",
        "print(pr)"
      ],
      "metadata": {
        "id": "z5BlSs7m1n0e",
        "colab": {
          "base_uri": "https://localhost:8080/"
        },
        "outputId": "101d4834-060d-47b6-97b2-dd911ac94d42"
      },
      "execution_count": null,
      "outputs": [
        {
          "output_type": "stream",
          "name": "stdout",
          "text": [
            "5\n"
          ]
        }
      ]
    },
    {
      "cell_type": "markdown",
      "source": [
        "**DSA**"
      ],
      "metadata": {
        "id": "ffNdGN6KyNti"
      }
    },
    {
      "cell_type": "markdown",
      "source": [
        "dll"
      ],
      "metadata": {
        "id": "bRzVv6PNya6R"
      }
    },
    {
      "cell_type": "code",
      "source": [
        "class node:\n",
        "  def __init__(self,u):\n",
        "    self.data=u\n",
        "    self.next=None\n",
        "    self.prev=None\n",
        "def display():\n",
        "  t=a\n",
        "  while(t!=None):#the last value has no address\n",
        "    print(t.data)#print the data of t\n",
        "    t=t.next#next address is used t is now changed\n",
        "a=node(10)\n",
        "a.next=node(20)\n",
        "a.next.next=node(30)\n",
        "display()\n",
        "\n"
      ],
      "metadata": {
        "colab": {
          "base_uri": "https://localhost:8080/"
        },
        "id": "MlnCAXZNyMha",
        "outputId": "263a2e5d-ed56-4072-8e6b-dd0870e73b5b"
      },
      "execution_count": null,
      "outputs": [
        {
          "output_type": "stream",
          "name": "stdout",
          "text": [
            "10\n",
            "20\n",
            "30\n"
          ]
        }
      ]
    },
    {
      "cell_type": "markdown",
      "source": [
        "SLL"
      ],
      "metadata": {
        "id": "B4_9mCd81CkR"
      }
    },
    {
      "cell_type": "code",
      "source": [],
      "metadata": {
        "id": "u6NTeOXA1Dlk"
      },
      "execution_count": null,
      "outputs": []
    },
    {
      "cell_type": "code",
      "source": [
        "class node:\n",
        "  def __init__(self,u):\n",
        "    self.data=u\n",
        "    self.next=None\n",
        "def display():\n",
        "  t=a\n",
        "  while(t!=None):#the last value has no address\n",
        "    print(t.data)#print the data of t\n",
        "    t=t.next#next address is used t is now changed\n",
        "a=node(10)\n",
        "a.next=node(20)\n",
        "a.next.next=node(30)\n",
        "display()\n",
        "\n"
      ],
      "metadata": {
        "colab": {
          "base_uri": "https://localhost:8080/"
        },
        "outputId": "e116f3bf-1fd9-441d-af18-7f8f51170167",
        "id": "gtqpPhhB1Edz"
      },
      "execution_count": null,
      "outputs": [
        {
          "output_type": "stream",
          "name": "stdout",
          "text": [
            "10\n",
            "20\n",
            "30\n"
          ]
        }
      ]
    },
    {
      "cell_type": "markdown",
      "source": [
        "SUM/even sum/middle node"
      ],
      "metadata": {
        "id": "CcQTmguF1v1J"
      }
    },
    {
      "cell_type": "code",
      "source": [
        "class node:\n",
        "  def __init__(self,u):\n",
        "    self.data=u\n",
        "    self.next=None\n",
        "def middle():\n",
        "  t=a\n",
        "  c=0\n",
        "  while(t!=None):\n",
        "    c=c+1\n",
        "    t=t.next\n",
        "  t=a\n",
        "  for i in range(c//2):\n",
        "    t=t.next\n",
        "  print(t.data)\n",
        "\n",
        "\n",
        "def sum_even():\n",
        "  t=a\n",
        "  sum_even=0\n",
        "  while(t!=None):\n",
        "    if(t.data%2==0):\n",
        "      sum_even=sum_even+t.data\n",
        "    t=t.next\n",
        "  print(sum_even)\n",
        "\n",
        "def sum():\n",
        "  t=a\n",
        "  sum=0\n",
        "  while(t!=None):\n",
        "      sum=sum+t.data\n",
        "      t=t.next\n",
        "  print(sum)\n",
        "def display():\n",
        "   t=a\n",
        "   while(t!=None):#the last value has no address\n",
        "    print(t.data)#print the data of t\n",
        "    t=t.next#next address is used t is now changed\n",
        "\n",
        "\n",
        "a=node(10)\n",
        "a.next=node(23)\n",
        "a.next.next=node(30)\n",
        "a.next.next.next=node(40)\n",
        "display()\n",
        "sum()\n",
        "sum_even()\n",
        "middle()\n"
      ],
      "metadata": {
        "colab": {
          "base_uri": "https://localhost:8080/"
        },
        "id": "AtoDj1UB1xPa",
        "outputId": "cbdaace1-47ff-45c6-ef99-8cd4d614bf9d"
      },
      "execution_count": null,
      "outputs": [
        {
          "output_type": "stream",
          "name": "stdout",
          "text": [
            "10\n",
            "23\n",
            "30\n",
            "40\n",
            "103\n",
            "80\n",
            "30\n"
          ]
        }
      ]
    },
    {
      "cell_type": "markdown",
      "source": [
        "Efficent middle node"
      ],
      "metadata": {
        "id": "GvsPwjCTL4Tb"
      }
    },
    {
      "cell_type": "code",
      "source": [
        "class node:\n",
        "  def __init__(self,u):\n",
        "    self.data=u\n",
        "    self.next=None\n",
        "def middle():\n",
        "  t=a\n",
        "  s=a\n",
        "  while(t!=None and t.next!=None):#for even move util none but not none and for off move util next is none(since its and both should be true or else it comes out)\n",
        "    t=t.next.next# t jumps 2 times\n",
        "    s=s.next#when s jumps 1 time t jump 2 times\n",
        "  print(s.data)#print the s value\n",
        "a=node(10)\n",
        "a.next=node(23)\n",
        "a.next.next=node(30)\n",
        "a.next.next.next=node(40)\n",
        "a.next.next.next.next=node(50)\n",
        "a.next.next.next.next.next=node(60)\n",
        "middle()\n",
        "\n"
      ],
      "metadata": {
        "colab": {
          "base_uri": "https://localhost:8080/"
        },
        "id": "P0kK6s3vL449",
        "outputId": "3e341d37-1698-41fb-f939-33cba6ce2986"
      },
      "execution_count": null,
      "outputs": [
        {
          "output_type": "stream",
          "name": "stdout",
          "text": [
            "40\n"
          ]
        }
      ]
    },
    {
      "cell_type": "markdown",
      "source": [
        "i/p chnaged liniked list(add back function)"
      ],
      "metadata": {
        "id": "_cWYDO3bwQkO"
      }
    },
    {
      "cell_type": "code",
      "source": [
        "class node:\n",
        "  def __init__(self,u):\n",
        "    self.data=u\n",
        "    self.next=None\n",
        "def add_back(x):\n",
        "  t=a\n",
        "  while(t.next!=None):\n",
        "    t=t.next\n",
        "  t.next=node(x)\n",
        "def display():\n",
        "   t=a\n",
        "   while(t!=None):#the last value has no address\n",
        "    print(t.data)#print the data of t\n",
        "    t=t.next#next address is used t is now changed\n",
        "a=node(10)\n",
        "add_back(23)\n",
        "add_back(30)\n",
        "add_back(40)\n",
        "add_back(57)\n",
        "add_back(67)\n",
        "add_back(75)\n",
        "display()\n",
        "\n"
      ],
      "metadata": {
        "colab": {
          "base_uri": "https://localhost:8080/"
        },
        "id": "XWodwRXLwRSU",
        "outputId": "6102ccb4-0241-4c17-ad21-fca9870f0057"
      },
      "execution_count": null,
      "outputs": [
        {
          "output_type": "stream",
          "name": "stdout",
          "text": [
            "10\n",
            "23\n",
            "30\n",
            "40\n",
            "57\n",
            "67\n",
            "75\n"
          ]
        }
      ]
    },
    {
      "cell_type": "markdown",
      "source": [
        "kth term from the end"
      ],
      "metadata": {
        "id": "-aDDCjK_6xMM"
      }
    },
    {
      "cell_type": "code",
      "source": [
        "class node:\n",
        "  def __init__(self,u):\n",
        "    self.data=u\n",
        "    self.next=None\n",
        "def kth_last(k):\n",
        "  f=a\n",
        "  s=a\n",
        "  for i in range(k):\n",
        "    f=f.next#jump f to the kth position\n",
        "  while(f!=None):\n",
        "      f=f.next#after that first jump f and s jumps same\n",
        "      s=s.next#after that first jump f and s jumps same\n",
        "  print(s.data)\n",
        "def add_back(x):\n",
        "  t=a\n",
        "  while(t.next!=None):\n",
        "    t=t.next\n",
        "  t.next=node(x)\n",
        "def display():\n",
        "   t=a\n",
        "   while(t!=None):#the last value has no address\n",
        "    print(t.data)#print the data of t\n",
        "    t=t.next#next address is used t is now changed\n",
        "a=node(10)\n",
        "add_back(23)\n",
        "add_back(30)\n",
        "add_back(40)\n",
        "add_back(57)\n",
        "add_back(67)\n",
        "add_back(75)\n",
        "display()\n",
        "kth_last(3)\n"
      ],
      "metadata": {
        "colab": {
          "base_uri": "https://localhost:8080/"
        },
        "id": "TFnnw90V6w1N",
        "outputId": "8ca2bd68-d6a7-4418-f8cb-8e9369153262"
      },
      "execution_count": null,
      "outputs": [
        {
          "output_type": "stream",
          "name": "stdout",
          "text": [
            "10\n",
            "23\n",
            "30\n",
            "40\n",
            "57\n",
            "67\n",
            "75\n",
            "57\n"
          ]
        }
      ]
    }
  ]
}
